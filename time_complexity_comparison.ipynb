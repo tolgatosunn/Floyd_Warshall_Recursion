{
 "cells": [
  {
   "cell_type": "code",
   "execution_count": 1,
   "id": "491d21c4-611c-432a-89b1-645b4b1c1389",
   "metadata": {},
   "outputs": [],
   "source": [
    "%load_ext line_profiler\n",
    "from floyd_recursion import floyd, graph_creator\n",
    "from floyd_iteration import floyd_it"
   ]
  },
  {
   "cell_type": "code",
   "execution_count": 2,
   "id": "01fa69d3-bf55-4dbe-9b86-234e1e4bda88",
   "metadata": {},
   "outputs": [
    {
     "name": "stdout",
     "output_type": "stream",
     "text": [
      "       0        3        4        6 \n",
      "       8        0        7        9 \n",
      "       2        5        0        8 \n",
      "       5        2        8        0 \n"
     ]
    },
    {
     "data": {
      "text/plain": [
       "Timer unit: 1e-07 s\n",
       "\n",
       "Total time: 0.0006993 s\n",
       "File: C:\\Users\\tolga\\Desktop\\TheFolder\\Master\\University of Liverpool\\2_Software Development in Practise\\Week_5\\Floyd_Final\\floyd_recursion.py\n",
       "Function: floyd at line 85\n",
       "\n",
       "Line #      Hits         Time  Per Hit   % Time  Line Contents\n",
       "==============================================================\n",
       "    85                                           def floyd(distance, graph_range, intermediate_node=0):\n",
       "    86                                               \"\"\"\n",
       "    87                                               This function is a recursion implementation of Floyd's algorithm.\n",
       "    88                                           \n",
       "    89                                               Input: \"distance\" is a graph produced by the \"graph_creator\" function.\n",
       "    90                                                       \"intermediate_node\" is 0 by default.\n",
       "    91                                           \n",
       "    92                                               Process: The function finds the shortest distance between nodes\n",
       "    93                                               and prints it.\n",
       "    94                                           \n",
       "    95                                               Output: is printed distance graph.\n",
       "    96                                           \n",
       "    97                                               \"\"\"\n",
       "    98                                           \n",
       "    99         4         25.0      6.2      0.4      if intermediate_node < graph_range:\n",
       "   100                                                   # The function is to be run until \"intermediate_node\"\n",
       "   101                                                   # reaches the graph_range\n",
       "   102                                           \n",
       "   103        64        430.0      6.7      6.1          for start_node,end_node in itertools.product\\\n",
       "   104         4        125.0     31.2      1.8          (range(graph_range), range(graph_range)):\n",
       "   105                                                           # The iteration will be proceeded for each \"start_node\"\n",
       "   106                                                           # in \"start_nodes\" and each \"end_node\" in \"end_nodes\"\n",
       "   107                                                           \n",
       "   108        64        360.0      5.6      5.1                  if distance[start_node][end_node] >\\\n",
       "   109        64        354.0      5.5      5.1                          distance[start_node][intermediate_node]\\\n",
       "   110        64        327.0      5.1      4.7                          + distance[intermediate_node][end_node]:\n",
       "   111                                                               # if current distance from start node to end node\n",
       "   112                                                               # is longer than the distance through an intermediate node.\n",
       "   113                                                               # The distance will be updated with the distance\n",
       "   114                                                               # through an intermediate node.\n",
       "   115                                           \n",
       "   116         2         12.0      6.0      0.2                      distance[start_node][end_node] =\\\n",
       "   117         2         10.0      5.0      0.1                              distance[start_node][intermediate_node] \\\n",
       "   118         2          9.0      4.5      0.1                              + distance[intermediate_node][end_node]\n",
       "   119                                           \n",
       "   120                                                   # Until intermediate_node reaches the graph_size, floyd function\n",
       "   121                                                   # will be run by increasing intermediate_node by 1.\n",
       "   122                                                   # And, also updated distance graph will be use as the input.\n",
       "   123         4         53.0     13.2      0.8          return floyd(distance, graph_range, intermediate_node + 1)\n",
       "   124                                           \n",
       "   125                                               # When intermediate_node reaches the graph_size, distance graph\n",
       "   126                                               # will be printed by printSolution function.\n",
       "   127                                               \n",
       "   128         1       5283.0   5283.0     75.5      print_graph(distance)\n",
       "   129         1          5.0      5.0      0.1      return None"
      ]
     },
     "metadata": {},
     "output_type": "display_data"
    }
   ],
   "source": [
    "graph_size = 4\n",
    "graph_param = graph_creator(graph_size)\n",
    "\n",
    "%lprun -f floyd floyd(graph_param, graph_size, intermediate_node=0)"
   ]
  },
  {
   "cell_type": "code",
   "execution_count": null,
   "id": "95b8f0eb-3d96-45bf-908a-ef56a36daec3",
   "metadata": {},
   "outputs": [
    {
     "name": "stdout",
     "output_type": "stream",
     "text": [
      "       0        7        7        4 \n",
      "       9        0        2        8 \n",
      "       9        8        0        7 \n",
      "      12        8        3        0 \n"
     ]
    },
    {
     "data": {
      "text/plain": [
       "Timer unit: 1e-07 s\n",
       "\n",
       "Total time: 0.0003869 s\n",
       "File: C:\\Users\\tolga\\Desktop\\TheFolder\\Master\\University of Liverpool\\2_Software Development in Practise\\Week_5\\Floyd_Final\\floyd_iteration.py\n",
       "Function: floyd_it at line 74\n",
       "\n",
       "Line #      Hits         Time  Per Hit   % Time  Line Contents\n",
       "==============================================================\n",
       "    74                                           def floyd_it(distance):\n",
       "    75                                               \"\"\"\n",
       "    76                                               A simple implementation of Floyd's algorithm\n",
       "    77                                               \"\"\"\n",
       "    78                                               \n",
       "    79        64        213.0      3.3      5.5      for intermediate, start_node,end_node\\\n",
       "    80         1         14.0     14.0      0.4      in itertools.product\\\n",
       "    81         1         14.0     14.0      0.4      (range(MAX_LENGTH),range(MAX_LENGTH), range(MAX_LENGTH)):\n",
       "    82                                                   \n",
       "    83                                                   # Assume that if start_node and end_node are the same\n",
       "    84                                                   # then the distance would be zero\n",
       "    85        48        142.0      3.0      3.7          if start_node == end_node:\n",
       "    86        16         53.0      3.3      1.4              distance[start_node][end_node] = 0\n",
       "    87        16         39.0      2.4      1.0              continue\n",
       "    88                                                   #return all possible paths and find the minimum\n",
       "    89        48        243.0      5.1      6.3          distance[start_node][end_node] = min(distance[start_node][end_node],\n",
       "    90        48        198.0      4.1      5.1                          distance[start_node][intermediate] + distance[intermediate][end_node] )\n",
       "    91                                                   #Any value that have sys.maxsize has no path\n",
       "    92         1       2953.0   2953.0     76.3      print_graph(distance)\n",
       "    93                                               #return None"
      ]
     },
     "metadata": {},
     "output_type": "display_data"
    }
   ],
   "source": [
    "MAX_LENGTH = 4\n",
    "graph_param = graph_creator(graph_size)\n",
    "\n",
    "%lprun -f floyd_it floyd_it(graph_param)"
   ]
  }
 ],
 "metadata": {
  "kernelspec": {
   "display_name": "Python 3 (ipykernel)",
   "language": "python",
   "name": "python3"
  },
  "language_info": {
   "codemirror_mode": {
    "name": "ipython",
    "version": 3
   },
   "file_extension": ".py",
   "mimetype": "text/x-python",
   "name": "python",
   "nbconvert_exporter": "python",
   "pygments_lexer": "ipython3",
   "version": "3.8.16"
  }
 },
 "nbformat": 4,
 "nbformat_minor": 5
}
